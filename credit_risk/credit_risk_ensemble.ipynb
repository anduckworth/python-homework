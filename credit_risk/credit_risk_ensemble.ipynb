{
 "cells": [
  {
   "cell_type": "markdown",
   "metadata": {},
   "source": [
    "# Ensemble Learning\n",
    "\n",
    "## Initial Imports"
   ]
  },
  {
   "cell_type": "code",
   "execution_count": 28,
   "metadata": {},
   "outputs": [],
   "source": [
    "import warnings\n",
    "warnings.filterwarnings('ignore')"
   ]
  },
  {
   "cell_type": "code",
   "execution_count": 29,
   "metadata": {},
   "outputs": [],
   "source": [
    "import numpy as np\n",
    "import pandas as pd\n",
    "from pathlib import Path\n",
    "from collections import Counter"
   ]
  },
  {
   "cell_type": "code",
   "execution_count": 30,
   "metadata": {},
   "outputs": [],
   "source": [
    "from sklearn.metrics import balanced_accuracy_score\n",
    "from sklearn.metrics import confusion_matrix\n",
    "from imblearn.metrics import classification_report_imbalanced\n",
    "from sklearn.preprocessing import LabelEncoder\n",
    "from sklearn.ensemble import RandomForestClassifier\n",
    "from sklearn.preprocessing import StandardScaler\n"
   ]
  },
  {
   "cell_type": "markdown",
   "metadata": {},
   "source": [
    "## Read the CSV and Perform Basic Data Cleaning"
   ]
  },
  {
   "cell_type": "code",
   "execution_count": 31,
   "metadata": {},
   "outputs": [],
   "source": [
    "# Load the data\n",
    "file_path = Path('LoanStats_2019Q1.csv')\n",
    "df = pd.read_csv(file_path)\n",
    "\n",
    "df_binary_encoded = pd.get_dummies(df, columns=[\"home_ownership\", 'verification_status'])\n",
    "df_binary_encoded\n",
    "\n",
    "le = LabelEncoder()\n",
    "le.fit(df_binary_encoded[\"issue_d\"])\n",
    "df_binary_encoded[\"issue_d\"] = le.transform(df_binary_encoded[\"issue_d\"])\n",
    "le.fit(df_binary_encoded[\"loan_status\"])\n",
    "df_binary_encoded[\"loan_status\"] = le.transform(df_binary_encoded[\"loan_status\"])\n",
    "le.fit(df_binary_encoded[\"hardship_flag\"])\n",
    "df_binary_encoded[\"hardship_flag\"] = le.transform(df_binary_encoded[\"hardship_flag\"])\n",
    "le.fit(df_binary_encoded[\"debt_settlement_flag\"])\n",
    "df_binary_encoded[\"debt_settlement_flag\"] = le.transform(df_binary_encoded[\"debt_settlement_flag\"])\n",
    "le.fit(df_binary_encoded[\"application_type\"])\n",
    "df_binary_encoded[\"application_type\"] = le.transform(df_binary_encoded[\"application_type\"])\n",
    "le.fit(df_binary_encoded[\"initial_list_status\"])\n",
    "df_binary_encoded[\"initial_list_status\"] = le.transform(df_binary_encoded[\"initial_list_status\"])\n",
    "le.fit(df_binary_encoded[\"next_pymnt_d\"])\n",
    "df_binary_encoded[\"next_pymnt_d\"] = le.transform(df_binary_encoded[\"next_pymnt_d\"])\n",
    "le.fit(df_binary_encoded[\"pymnt_plan\"])\n",
    "df_binary_encoded[\"pymnt_plan\"] = le.transform(df_binary_encoded[\"pymnt_plan\"])\n",
    "\n",
    "#df_binary_encoded['pymnt_plan'].value_counts()"
   ]
  },
  {
   "cell_type": "markdown",
   "metadata": {},
   "source": [
    "## Split the Data into Training and Testing"
   ]
  },
  {
   "cell_type": "code",
   "execution_count": 32,
   "metadata": {},
   "outputs": [],
   "source": [
    "#features and target\n",
    "\n",
    "# Create our features\n",
    "X = df_binary_encoded.copy()\n",
    "X.drop('loan_status', axis=1)\n",
    "\n",
    "# Create our target\n",
    "y = df_binary_encoded['loan_status']"
   ]
  },
  {
   "cell_type": "code",
   "execution_count": 33,
   "metadata": {},
   "outputs": [
    {
     "data": {
      "text/html": [
       "<div>\n",
       "<style scoped>\n",
       "    .dataframe tbody tr th:only-of-type {\n",
       "        vertical-align: middle;\n",
       "    }\n",
       "\n",
       "    .dataframe tbody tr th {\n",
       "        vertical-align: top;\n",
       "    }\n",
       "\n",
       "    .dataframe thead th {\n",
       "        text-align: right;\n",
       "    }\n",
       "</style>\n",
       "<table border=\"1\" class=\"dataframe\">\n",
       "  <thead>\n",
       "    <tr style=\"text-align: right;\">\n",
       "      <th></th>\n",
       "      <th>loan_amnt</th>\n",
       "      <th>int_rate</th>\n",
       "      <th>installment</th>\n",
       "      <th>annual_inc</th>\n",
       "      <th>issue_d</th>\n",
       "      <th>loan_status</th>\n",
       "      <th>pymnt_plan</th>\n",
       "      <th>dti</th>\n",
       "      <th>delinq_2yrs</th>\n",
       "      <th>inq_last_6mths</th>\n",
       "      <th>...</th>\n",
       "      <th>total_il_high_credit_limit</th>\n",
       "      <th>hardship_flag</th>\n",
       "      <th>debt_settlement_flag</th>\n",
       "      <th>home_ownership_ANY</th>\n",
       "      <th>home_ownership_MORTGAGE</th>\n",
       "      <th>home_ownership_OWN</th>\n",
       "      <th>home_ownership_RENT</th>\n",
       "      <th>verification_status_Not Verified</th>\n",
       "      <th>verification_status_Source Verified</th>\n",
       "      <th>verification_status_Verified</th>\n",
       "    </tr>\n",
       "  </thead>\n",
       "  <tbody>\n",
       "    <tr>\n",
       "      <th>count</th>\n",
       "      <td>68817.000000</td>\n",
       "      <td>68817.000000</td>\n",
       "      <td>68817.000000</td>\n",
       "      <td>6.881700e+04</td>\n",
       "      <td>68817.000000</td>\n",
       "      <td>68817.000000</td>\n",
       "      <td>68817.0</td>\n",
       "      <td>68817.000000</td>\n",
       "      <td>68817.000000</td>\n",
       "      <td>68817.000000</td>\n",
       "      <td>...</td>\n",
       "      <td>6.881700e+04</td>\n",
       "      <td>68817.0</td>\n",
       "      <td>68817.0</td>\n",
       "      <td>68817.000000</td>\n",
       "      <td>68817.000000</td>\n",
       "      <td>68817.000000</td>\n",
       "      <td>68817.000000</td>\n",
       "      <td>68817.000000</td>\n",
       "      <td>68817.000000</td>\n",
       "      <td>68817.000000</td>\n",
       "    </tr>\n",
       "    <tr>\n",
       "      <th>mean</th>\n",
       "      <td>16677.594562</td>\n",
       "      <td>0.127718</td>\n",
       "      <td>480.652863</td>\n",
       "      <td>8.821371e+04</td>\n",
       "      <td>0.805542</td>\n",
       "      <td>0.994958</td>\n",
       "      <td>0.0</td>\n",
       "      <td>21.778153</td>\n",
       "      <td>0.217766</td>\n",
       "      <td>0.497697</td>\n",
       "      <td>...</td>\n",
       "      <td>5.572240e+04</td>\n",
       "      <td>0.0</td>\n",
       "      <td>0.0</td>\n",
       "      <td>0.009285</td>\n",
       "      <td>0.526309</td>\n",
       "      <td>0.106747</td>\n",
       "      <td>0.357659</td>\n",
       "      <td>0.478007</td>\n",
       "      <td>0.373992</td>\n",
       "      <td>0.148001</td>\n",
       "    </tr>\n",
       "    <tr>\n",
       "      <th>std</th>\n",
       "      <td>10277.348590</td>\n",
       "      <td>0.048130</td>\n",
       "      <td>288.062432</td>\n",
       "      <td>1.155800e+05</td>\n",
       "      <td>0.714932</td>\n",
       "      <td>0.070831</td>\n",
       "      <td>0.0</td>\n",
       "      <td>20.199244</td>\n",
       "      <td>0.718367</td>\n",
       "      <td>0.758122</td>\n",
       "      <td>...</td>\n",
       "      <td>5.095845e+04</td>\n",
       "      <td>0.0</td>\n",
       "      <td>0.0</td>\n",
       "      <td>0.095914</td>\n",
       "      <td>0.499311</td>\n",
       "      <td>0.308793</td>\n",
       "      <td>0.479314</td>\n",
       "      <td>0.499520</td>\n",
       "      <td>0.483865</td>\n",
       "      <td>0.355104</td>\n",
       "    </tr>\n",
       "    <tr>\n",
       "      <th>min</th>\n",
       "      <td>1000.000000</td>\n",
       "      <td>0.060000</td>\n",
       "      <td>30.890000</td>\n",
       "      <td>4.000000e+01</td>\n",
       "      <td>0.000000</td>\n",
       "      <td>0.000000</td>\n",
       "      <td>0.0</td>\n",
       "      <td>0.000000</td>\n",
       "      <td>0.000000</td>\n",
       "      <td>0.000000</td>\n",
       "      <td>...</td>\n",
       "      <td>1.270000e+02</td>\n",
       "      <td>0.0</td>\n",
       "      <td>0.0</td>\n",
       "      <td>0.000000</td>\n",
       "      <td>0.000000</td>\n",
       "      <td>0.000000</td>\n",
       "      <td>0.000000</td>\n",
       "      <td>0.000000</td>\n",
       "      <td>0.000000</td>\n",
       "      <td>0.000000</td>\n",
       "    </tr>\n",
       "    <tr>\n",
       "      <th>25%</th>\n",
       "      <td>9000.000000</td>\n",
       "      <td>0.088100</td>\n",
       "      <td>265.730000</td>\n",
       "      <td>5.000000e+04</td>\n",
       "      <td>0.000000</td>\n",
       "      <td>1.000000</td>\n",
       "      <td>0.0</td>\n",
       "      <td>13.890000</td>\n",
       "      <td>0.000000</td>\n",
       "      <td>0.000000</td>\n",
       "      <td>...</td>\n",
       "      <td>2.288000e+04</td>\n",
       "      <td>0.0</td>\n",
       "      <td>0.0</td>\n",
       "      <td>0.000000</td>\n",
       "      <td>0.000000</td>\n",
       "      <td>0.000000</td>\n",
       "      <td>0.000000</td>\n",
       "      <td>0.000000</td>\n",
       "      <td>0.000000</td>\n",
       "      <td>0.000000</td>\n",
       "    </tr>\n",
       "    <tr>\n",
       "      <th>50%</th>\n",
       "      <td>15000.000000</td>\n",
       "      <td>0.118000</td>\n",
       "      <td>404.560000</td>\n",
       "      <td>7.300000e+04</td>\n",
       "      <td>1.000000</td>\n",
       "      <td>1.000000</td>\n",
       "      <td>0.0</td>\n",
       "      <td>19.760000</td>\n",
       "      <td>0.000000</td>\n",
       "      <td>0.000000</td>\n",
       "      <td>...</td>\n",
       "      <td>4.200000e+04</td>\n",
       "      <td>0.0</td>\n",
       "      <td>0.0</td>\n",
       "      <td>0.000000</td>\n",
       "      <td>1.000000</td>\n",
       "      <td>0.000000</td>\n",
       "      <td>0.000000</td>\n",
       "      <td>0.000000</td>\n",
       "      <td>0.000000</td>\n",
       "      <td>0.000000</td>\n",
       "    </tr>\n",
       "    <tr>\n",
       "      <th>75%</th>\n",
       "      <td>24000.000000</td>\n",
       "      <td>0.155700</td>\n",
       "      <td>648.100000</td>\n",
       "      <td>1.040000e+05</td>\n",
       "      <td>1.000000</td>\n",
       "      <td>1.000000</td>\n",
       "      <td>0.0</td>\n",
       "      <td>26.660000</td>\n",
       "      <td>0.000000</td>\n",
       "      <td>1.000000</td>\n",
       "      <td>...</td>\n",
       "      <td>7.249900e+04</td>\n",
       "      <td>0.0</td>\n",
       "      <td>0.0</td>\n",
       "      <td>0.000000</td>\n",
       "      <td>1.000000</td>\n",
       "      <td>0.000000</td>\n",
       "      <td>1.000000</td>\n",
       "      <td>1.000000</td>\n",
       "      <td>1.000000</td>\n",
       "      <td>0.000000</td>\n",
       "    </tr>\n",
       "    <tr>\n",
       "      <th>max</th>\n",
       "      <td>40000.000000</td>\n",
       "      <td>0.308400</td>\n",
       "      <td>1676.230000</td>\n",
       "      <td>8.797500e+06</td>\n",
       "      <td>2.000000</td>\n",
       "      <td>1.000000</td>\n",
       "      <td>0.0</td>\n",
       "      <td>999.000000</td>\n",
       "      <td>18.000000</td>\n",
       "      <td>5.000000</td>\n",
       "      <td>...</td>\n",
       "      <td>1.426964e+06</td>\n",
       "      <td>0.0</td>\n",
       "      <td>0.0</td>\n",
       "      <td>1.000000</td>\n",
       "      <td>1.000000</td>\n",
       "      <td>1.000000</td>\n",
       "      <td>1.000000</td>\n",
       "      <td>1.000000</td>\n",
       "      <td>1.000000</td>\n",
       "      <td>1.000000</td>\n",
       "    </tr>\n",
       "  </tbody>\n",
       "</table>\n",
       "<p>8 rows × 91 columns</p>\n",
       "</div>"
      ],
      "text/plain": [
       "          loan_amnt      int_rate   installment    annual_inc       issue_d  \\\n",
       "count  68817.000000  68817.000000  68817.000000  6.881700e+04  68817.000000   \n",
       "mean   16677.594562      0.127718    480.652863  8.821371e+04      0.805542   \n",
       "std    10277.348590      0.048130    288.062432  1.155800e+05      0.714932   \n",
       "min     1000.000000      0.060000     30.890000  4.000000e+01      0.000000   \n",
       "25%     9000.000000      0.088100    265.730000  5.000000e+04      0.000000   \n",
       "50%    15000.000000      0.118000    404.560000  7.300000e+04      1.000000   \n",
       "75%    24000.000000      0.155700    648.100000  1.040000e+05      1.000000   \n",
       "max    40000.000000      0.308400   1676.230000  8.797500e+06      2.000000   \n",
       "\n",
       "        loan_status  pymnt_plan           dti   delinq_2yrs  inq_last_6mths  \\\n",
       "count  68817.000000     68817.0  68817.000000  68817.000000    68817.000000   \n",
       "mean       0.994958         0.0     21.778153      0.217766        0.497697   \n",
       "std        0.070831         0.0     20.199244      0.718367        0.758122   \n",
       "min        0.000000         0.0      0.000000      0.000000        0.000000   \n",
       "25%        1.000000         0.0     13.890000      0.000000        0.000000   \n",
       "50%        1.000000         0.0     19.760000      0.000000        0.000000   \n",
       "75%        1.000000         0.0     26.660000      0.000000        1.000000   \n",
       "max        1.000000         0.0    999.000000     18.000000        5.000000   \n",
       "\n",
       "       ...  total_il_high_credit_limit  hardship_flag  debt_settlement_flag  \\\n",
       "count  ...                6.881700e+04        68817.0               68817.0   \n",
       "mean   ...                5.572240e+04            0.0                   0.0   \n",
       "std    ...                5.095845e+04            0.0                   0.0   \n",
       "min    ...                1.270000e+02            0.0                   0.0   \n",
       "25%    ...                2.288000e+04            0.0                   0.0   \n",
       "50%    ...                4.200000e+04            0.0                   0.0   \n",
       "75%    ...                7.249900e+04            0.0                   0.0   \n",
       "max    ...                1.426964e+06            0.0                   0.0   \n",
       "\n",
       "       home_ownership_ANY  home_ownership_MORTGAGE  home_ownership_OWN  \\\n",
       "count        68817.000000             68817.000000        68817.000000   \n",
       "mean             0.009285                 0.526309            0.106747   \n",
       "std              0.095914                 0.499311            0.308793   \n",
       "min              0.000000                 0.000000            0.000000   \n",
       "25%              0.000000                 0.000000            0.000000   \n",
       "50%              0.000000                 1.000000            0.000000   \n",
       "75%              0.000000                 1.000000            0.000000   \n",
       "max              1.000000                 1.000000            1.000000   \n",
       "\n",
       "       home_ownership_RENT  verification_status_Not Verified  \\\n",
       "count         68817.000000                      68817.000000   \n",
       "mean              0.357659                          0.478007   \n",
       "std               0.479314                          0.499520   \n",
       "min               0.000000                          0.000000   \n",
       "25%               0.000000                          0.000000   \n",
       "50%               0.000000                          0.000000   \n",
       "75%               1.000000                          1.000000   \n",
       "max               1.000000                          1.000000   \n",
       "\n",
       "       verification_status_Source Verified  verification_status_Verified  \n",
       "count                         68817.000000                  68817.000000  \n",
       "mean                              0.373992                      0.148001  \n",
       "std                               0.483865                      0.355104  \n",
       "min                               0.000000                      0.000000  \n",
       "25%                               0.000000                      0.000000  \n",
       "50%                               0.000000                      0.000000  \n",
       "75%                               1.000000                      0.000000  \n",
       "max                               1.000000                      1.000000  \n",
       "\n",
       "[8 rows x 91 columns]"
      ]
     },
     "execution_count": 33,
     "metadata": {},
     "output_type": "execute_result"
    }
   ],
   "source": [
    "X.describe()"
   ]
  },
  {
   "cell_type": "code",
   "execution_count": 34,
   "metadata": {},
   "outputs": [
    {
     "data": {
      "text/plain": [
       "1    68470\n",
       "0      347\n",
       "Name: loan_status, dtype: int64"
      ]
     },
     "execution_count": 34,
     "metadata": {},
     "output_type": "execute_result"
    }
   ],
   "source": [
    "# Check the balance of our target values\n",
    "y.value_counts()"
   ]
  },
  {
   "cell_type": "code",
   "execution_count": 35,
   "metadata": {},
   "outputs": [],
   "source": [
    "# Split the X and y into X_train, X_test, y_train, y_test\n",
    "from sklearn.model_selection import train_test_split\n",
    "X_train, X_test, y_train, y_test = train_test_split(X, y, random_state=1)"
   ]
  },
  {
   "cell_type": "markdown",
   "metadata": {},
   "source": [
    "## Data Pre-Processing\n",
    "\n",
    "Scale the training and testing data using the `StandardScaler` from `sklearn`. Remember that when scaling the data, you only scale the features data (`X_train` and `X_testing`)."
   ]
  },
  {
   "cell_type": "code",
   "execution_count": 36,
   "metadata": {},
   "outputs": [],
   "source": [
    "# Create the StandardScaler instance\n",
    "from sklearn.preprocessing import StandardScaler\n",
    "scaler = StandardScaler()"
   ]
  },
  {
   "cell_type": "code",
   "execution_count": 37,
   "metadata": {},
   "outputs": [],
   "source": [
    "# Fit the Standard Scaler with the training data\n",
    "# When fitting scaling functions, only train on the training dataset\n",
    "X_scaler = scaler.fit(X_train)"
   ]
  },
  {
   "cell_type": "code",
   "execution_count": 38,
   "metadata": {},
   "outputs": [],
   "source": [
    "# Scale the training and testing data\n",
    "X_train_scaled = X_scaler.transform(X_train)\n",
    "X_test_scaled = X_scaler.transform(X_test)"
   ]
  },
  {
   "cell_type": "markdown",
   "metadata": {},
   "source": [
    "## Ensemble Learners\n",
    "\n",
    "In this section, you will compare two ensemble algorithms to determine which algorithm results in the best performance. You will train a Balanced Random Forest Classifier and an Easy Ensemble classifier . For each algorithm, be sure to complete the folliowing steps:\n",
    "\n",
    "1. Train the model using the training data. \n",
    "2. Calculate the balanced accuracy score from sklearn.metrics.\n",
    "3. Display the confusion matrix from sklearn.metrics.\n",
    "4. Generate a classication report using the `imbalanced_classification_report` from imbalanced-learn.\n",
    "5. For the Balanced Random Forest Classifier only, print the feature importance sorted in descending order (most important feature to least important) along with the feature score\n",
    "\n",
    "Note: Use a random state of 1 for each algorithm to ensure consistency between tests"
   ]
  },
  {
   "cell_type": "markdown",
   "metadata": {},
   "source": [
    "### Balanced Random Forest Classifier"
   ]
  },
  {
   "cell_type": "code",
   "execution_count": 39,
   "metadata": {},
   "outputs": [],
   "source": [
    "# Resample the training data with the BalancedRandomForestClassifier\n",
    "from imblearn.ensemble import BalancedRandomForestClassifier\n",
    "model = BalancedRandomForestClassifier(n_estimators=1000, random_state=1)\n",
    "model = model.fit(X_train_scaled, y_train)\n",
    "#rf_model = rf_model.fit(X_train_scaled, y_train)"
   ]
  },
  {
   "cell_type": "code",
   "execution_count": 40,
   "metadata": {},
   "outputs": [
    {
     "data": {
      "text/plain": [
       "0.9985383536014967"
      ]
     },
     "execution_count": 40,
     "metadata": {},
     "output_type": "execute_result"
    }
   ],
   "source": [
    "# Calculated the balanced accuracy score\n",
    "y_pred = model.predict(X_test_scaled)\n",
    "balanced_accuracy_score(y_test, y_pred)"
   ]
  },
  {
   "cell_type": "code",
   "execution_count": 41,
   "metadata": {},
   "outputs": [
    {
     "data": {
      "text/plain": [
       "array([[  101,     0],\n",
       "       [   50, 17054]], dtype=int64)"
      ]
     },
     "execution_count": 41,
     "metadata": {},
     "output_type": "execute_result"
    }
   ],
   "source": [
    "# Display the confusion matrix\n",
    "confusion_matrix(y_test, y_pred)"
   ]
  },
  {
   "cell_type": "code",
   "execution_count": 42,
   "metadata": {},
   "outputs": [
    {
     "name": "stdout",
     "output_type": "stream",
     "text": [
      "                   pre       rec       spe        f1       geo       iba       sup\n",
      "\n",
      "          0       0.67      1.00      1.00      0.80      1.00      1.00       101\n",
      "          1       1.00      1.00      1.00      1.00      1.00      1.00     17104\n",
      "\n",
      "avg / total       1.00      1.00      1.00      1.00      1.00      1.00     17205\n",
      "\n"
     ]
    }
   ],
   "source": [
    "# Print the imbalanced classification report\n",
    "print(classification_report_imbalanced(y_test, y_pred))"
   ]
  },
  {
   "cell_type": "code",
   "execution_count": 43,
   "metadata": {},
   "outputs": [
    {
     "data": {
      "text/plain": [
       "[(0.44291136687720256, 'loan_status'),\n",
       " (0.047761801151201974, 'total_rec_prncp'),\n",
       " (0.045679129052958414, 'last_pymnt_amnt'),\n",
       " (0.043395193539149925, 'total_pymnt'),\n",
       " (0.03930914028866674, 'total_rec_int'),\n",
       " (0.03741844765427699, 'total_pymnt_inv'),\n",
       " (0.01923338074254517, 'int_rate'),\n",
       " (0.010897833414539529, 'issue_d'),\n",
       " (0.010205122438934568, 'mths_since_recent_inq'),\n",
       " (0.008677183593277448, 'dti'),\n",
       " (0.008258797128342566, 'installment'),\n",
       " (0.008171126375351572, 'max_bal_bc'),\n",
       " (0.008114901876564, 'out_prncp'),\n",
       " (0.008106152128692198, 'out_prncp_inv'),\n",
       " (0.007714809002994088, 'total_bc_limit'),\n",
       " (0.007551186165715264, 'annual_inc'),\n",
       " (0.007438607323447561, 'revol_bal'),\n",
       " (0.007362051991227451, 'tot_hi_cred_lim'),\n",
       " (0.007166167683468682, 'total_bal_il'),\n",
       " (0.00706892633348977, 'mths_since_rcnt_il'),\n",
       " (0.006967583565897205, 'total_rev_hi_lim'),\n",
       " (0.006950271368611943, 'bc_open_to_buy'),\n",
       " (0.006836597551744597, 'mo_sin_old_rev_tl_op'),\n",
       " (0.006540888334620546, 'il_util'),\n",
       " (0.006437108052523695, 'avg_cur_bal'),\n",
       " (0.006378400782213454, 'bc_util'),\n",
       " (0.006368383139492496, 'tot_cur_bal'),\n",
       " (0.00632747144626515, 'total_bal_ex_mort'),\n",
       " (0.005981670000153745, 'all_util'),\n",
       " (0.005916816615779223, 'total_il_high_credit_limit'),\n",
       " (0.005846776371009909, 'mo_sin_old_il_acct'),\n",
       " (0.005726624328190583, 'inq_last_12m'),\n",
       " (0.0054621326702173, 'loan_amnt'),\n",
       " (0.005440152430675223, 'num_rev_accts'),\n",
       " (0.0053848446054938015, 'mths_since_recent_bc'),\n",
       " (0.005054211280775007, 'mo_sin_rcnt_rev_tl_op'),\n",
       " (0.004959967791119072, 'num_il_tl'),\n",
       " (0.0048871364128223625, 'total_acc'),\n",
       " (0.00480328938221781, 'pct_tl_nvr_dlq'),\n",
       " (0.004750497647652223, 'num_bc_tl'),\n",
       " (0.004711878283345941, 'acc_open_past_24mths'),\n",
       " (0.004662698041246955, 'total_rec_late_fee'),\n",
       " (0.004488952088311647, 'num_op_rev_tl'),\n",
       " (0.0044590572212313785, 'mo_sin_rcnt_tl'),\n",
       " (0.00438290599257338, 'num_actv_rev_tl'),\n",
       " (0.004319324746428114, 'open_acc'),\n",
       " (0.004316389199555008, 'inq_fi'),\n",
       " (0.004032065408702925, 'open_il_24m'),\n",
       " (0.003986203345106739, 'num_sats'),\n",
       " (0.0038517732067546873, 'num_tl_op_past_12m'),\n",
       " (0.0038274976051856984, 'num_rev_tl_bal_gt_0'),\n",
       " (0.003711771894369768, 'num_actv_bc_tl'),\n",
       " (0.0035228671914044906, 'total_cu_tl'),\n",
       " (0.003417088104854404, 'percent_bc_gt_75'),\n",
       " (0.0033957677817073794, 'mort_acc'),\n",
       " (0.003380062233410998, 'open_acc_6m'),\n",
       " (0.003183662595545712, 'open_rv_24m'),\n",
       " (0.0030750568069631626, 'num_bc_sats'),\n",
       " (0.0030082057554398326, 'open_act_il'),\n",
       " (0.0030014957912462372, 'inq_last_6mths'),\n",
       " (0.0027875903337179044, 'open_rv_12m'),\n",
       " (0.00265146441736964, 'next_pymnt_d'),\n",
       " (0.0023330761037159728, 'open_il_12m'),\n",
       " (0.0019722185699625793, 'delinq_2yrs'),\n",
       " (0.0018794085744167164, 'num_accts_ever_120_pd'),\n",
       " (0.0016906928327059681, 'tot_coll_amt'),\n",
       " (0.0012718635821038864, 'application_type'),\n",
       " (0.0012091365243842441, 'verification_status_Verified'),\n",
       " (0.0010743568668357306, 'verification_status_Not Verified'),\n",
       " (0.0009983018410348226, 'home_ownership_OWN'),\n",
       " (0.0009645381898473161, 'home_ownership_MORTGAGE'),\n",
       " (0.000936313199679681, 'verification_status_Source Verified'),\n",
       " (0.0008473302107752009, 'pub_rec_bankruptcies'),\n",
       " (0.0008341841072770212, 'home_ownership_RENT'),\n",
       " (0.0006895092034968488, 'pub_rec'),\n",
       " (0.0006017634934270769, 'initial_list_status'),\n",
       " (0.0005747744473886188, 'num_tl_90g_dpd_24m'),\n",
       " (0.0002772756517128886, 'collections_12_mths_ex_med'),\n",
       " (0.00012544797234677714, 'chargeoff_within_12_mths'),\n",
       " (8.388204489492794e-05, 'home_ownership_ANY'),\n",
       " (0.0, 'tax_liens'),\n",
       " (0.0, 'recoveries'),\n",
       " (0.0, 'pymnt_plan'),\n",
       " (0.0, 'policy_code'),\n",
       " (0.0, 'num_tl_30dpd'),\n",
       " (0.0, 'num_tl_120dpd_2m'),\n",
       " (0.0, 'hardship_flag'),\n",
       " (0.0, 'delinq_amnt'),\n",
       " (0.0, 'debt_settlement_flag'),\n",
       " (0.0, 'collection_recovery_fee'),\n",
       " (0.0, 'acc_now_delinq')]"
      ]
     },
     "execution_count": 43,
     "metadata": {},
     "output_type": "execute_result"
    }
   ],
   "source": [
    "# List the features sorted in descending order by feature importance\n",
    "importances = model.feature_importances_\n",
    "sorted(zip(model.feature_importances_, X.columns), reverse=True)\n"
   ]
  },
  {
   "cell_type": "markdown",
   "metadata": {},
   "source": [
    "### Easy Ensemble Classifier"
   ]
  },
  {
   "cell_type": "code",
   "execution_count": 44,
   "metadata": {},
   "outputs": [],
   "source": [
    "# Train the Classifier\n",
    "model = RandomForestClassifier(n_estimators=1000, random_state=0)\n",
    "model = model.fit(X_train_scaled, y_train)\n"
   ]
  },
  {
   "cell_type": "code",
   "execution_count": 45,
   "metadata": {},
   "outputs": [
    {
     "data": {
      "text/plain": [
       "1.0"
      ]
     },
     "execution_count": 45,
     "metadata": {},
     "output_type": "execute_result"
    }
   ],
   "source": [
    "# Calculated the balanced accuracy score\n",
    "y_pred = model.predict(X_test_scaled)\n",
    "balanced_accuracy_score(y_test, y_pred)"
   ]
  },
  {
   "cell_type": "code",
   "execution_count": 46,
   "metadata": {},
   "outputs": [
    {
     "data": {
      "text/plain": [
       "array([[  101,     0],\n",
       "       [    0, 17104]], dtype=int64)"
      ]
     },
     "execution_count": 46,
     "metadata": {},
     "output_type": "execute_result"
    }
   ],
   "source": [
    "# Display the confusion matrix\n",
    "confusion_matrix(y_test, y_pred)"
   ]
  },
  {
   "cell_type": "code",
   "execution_count": 47,
   "metadata": {},
   "outputs": [
    {
     "name": "stdout",
     "output_type": "stream",
     "text": [
      "                   pre       rec       spe        f1       geo       iba       sup\n",
      "\n",
      "          0       1.00      1.00      1.00      1.00      1.00      1.00       101\n",
      "          1       1.00      1.00      1.00      1.00      1.00      1.00     17104\n",
      "\n",
      "avg / total       1.00      1.00      1.00      1.00      1.00      1.00     17205\n",
      "\n"
     ]
    }
   ],
   "source": [
    "# Print the imbalanced classification report\n",
    "print(classification_report_imbalanced(y_test, y_pred))"
   ]
  },
  {
   "cell_type": "markdown",
   "metadata": {},
   "source": [
    "### Final Questions\n",
    "\n",
    "1. Which model had the best balanced accuracy score?\n",
    "\n",
    "    The Random Forest Classifier had the better balanced accuracy score of 1.o.\n",
    "\n",
    "2. Which model had the best recall score?\n",
    "\n",
    "    Both models had a 1.0 recall.\n",
    "\n",
    "3. Which model had the best geometric mean score?\n",
    "\n",
    "    Both models had geometric mean scores of 1.0.\n",
    "\n",
    "4. What are the top three features?\n",
    "\n",
    "    The top three features are loan_status, total_rec_prncp, last_pymnt_amnt."
   ]
  },
  {
   "cell_type": "code",
   "execution_count": null,
   "metadata": {},
   "outputs": [],
   "source": []
  }
 ],
 "metadata": {
  "kernelspec": {
   "display_name": "Python [conda env:mlenv]",
   "language": "python",
   "name": "conda-env-mlenv-py"
  },
  "language_info": {
   "codemirror_mode": {
    "name": "ipython",
    "version": 3
   },
   "file_extension": ".py",
   "mimetype": "text/x-python",
   "name": "python",
   "nbconvert_exporter": "python",
   "pygments_lexer": "ipython3",
   "version": "3.7.9"
  }
 },
 "nbformat": 4,
 "nbformat_minor": 4
}
